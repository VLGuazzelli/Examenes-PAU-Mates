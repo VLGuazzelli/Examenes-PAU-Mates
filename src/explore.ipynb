{
 "cells": [
  {
   "cell_type": "code",
   "execution_count": 1,
   "id": "9b0dc7b6",
   "metadata": {},
   "outputs": [],
   "source": [
    "import pandas as pd\n",
    "import numpy as np\n",
    "import requests\n",
    "from pathlib import Path\n"
   ]
  },
  {
   "cell_type": "code",
   "execution_count": 7,
   "id": "46880e02",
   "metadata": {},
   "outputs": [
    {
     "name": "stdout",
     "output_type": "stream",
     "text": [
      "PRUEBA DE EVALUACIÓN DE BACHILLERATO PARA EL\n",
      "ACCESO A LA UNIVERSIDAD Y PRUEBAS DE ADMISIÓN\n",
      "ANDALUCÍA, CEUTA, MELILLA y CENTROS en MARRUECOS\n",
      "CURSO 2023–2024MATEMÁTICAS II\n",
      "Instrucciones:a) Duración: 1 hora y 30 minutos.\n",
      "b) Todas las cuestiones deben responderse en el papel entregado para la realización del examen\n",
      "y nunca en los folios que contienen los enunciados.\n",
      "c) Este examen consta de 8 ejercicios distribuidos en 4 bloques de 2 ejercicios cada uno.\n",
      "d)Cada ejercicio tiene un valor máximo de 2,5 puntos.\n",
      "e) Se realizará únicamente un ejercicio de cada bloque. En caso de responder a dos ejercicios de un\n",
      "bloque, sólo se corregirá el que aparezca físicamente en primer lugar.\n",
      "f)Se permitirá el uso de calculadoras que no sean programables, ni gráficas ni con capacidad para\n",
      "almacenar o transmitir datos. No obstante, todos los procesos conducentes a la obtención de resul-\n",
      "tados deben estar suficientemente justificados.\n",
      "g)En la puntuación máxima de cada ejercicio están contemplados 0,25 puntos para valorar la expresión\n",
      "correcta de los procesos y métodos utilizados.\n",
      "BLOQUE A. Resuelve sólo uno de los siguientes ejercicios:\n",
      "EJERCICIO 1. (2,5 puntos)\n",
      "Seaf:R→Rla función definida por\n",
      "f(x) =a+bcos(x) +csen(x).\n",
      "Halla a,bycsabiendo que su gráfica tiene en el punto de abscisa x=π\n",
      "2a la recta y= 1como recta tangente, y\n",
      "que la recta y=x−1corta a la gráfica de fen el punto de abscisa x= 0.\n",
      "EJERCICIO 2. (2,5 puntos)\n",
      "Sea la función f:R→Rdada por f(x) =\u0012\n",
      "x−1\n",
      "2\u0013\n",
      "e−x2.\n",
      "a)[1,5 puntos] Determina los intervalos de crecimiento y de decrecimiento de f.\n",
      "b)[1 punto] Halla los extremos absolutos de f(abscisas donde se obtienen y valores que se alcanzan).\n",
      "BLOQUE B. Resuelve sólo uno de los siguientes ejercicios:\n",
      "EJERCICIO 3. (2,5 puntos)\n",
      "Sean f, g:R→Rlas funciones definidas por f(x) =−x2+ 7yg(x) =|x2−1|.\n",
      "a)[1 punto] Halla los puntos de intersección de las gráficas de fyg. Realiza un esbozo del recinto acotado y\n",
      "limitado por dichas gráficas.\n",
      "b)[1,5 puntos] Calcula el área de dicho recinto.\n",
      "EJERCICIO 4. (2,5 puntos)\n",
      "HallaZπ\n",
      "2\n",
      "0excos(x)dx.PRUEBA DE EVALUACIÓN DE BACHILLERATO PARA EL\n",
      "ACCESO A LA UNIVERSIDAD Y PRUEBAS DE ADMISIÓN\n",
      "ANDALUCÍA, CEUTA, MELILLA y CENTROS en MARRUECOS\n",
      "CURSO 2023–2024MATEMÁTICAS II\n",
      "BLOQUE C. Resuelve sólo uno de los siguientes ejercicios:\n",
      "EJERCICIO 5. (2,5 puntos)\n",
      "Considera la matriz A=\u0012−1 0\n",
      "0 1\u0013\n",
      ".\n",
      "a)[1,25 puntos] Halla todas las matrices Xque cumplen XA=−AXtyX2=I, donde Ies la matriz identidad\n",
      "de orden 2.\n",
      "b)[1,25 puntos] Halla todas las matrices Yque cumplen Y A=AY, la suma de los elementos de su diagonal\n",
      "principal es cero y tienen determinante −1.\n",
      "EJERCICIO 6. (2,5 puntos)\n",
      "Un proveedor de perfumerías vende a sus comerciantes tres tipos de perfumes A, B y C. En un primer pedido una\n",
      "tienda ha encargado 20 perfumes de tipo A, 30 de tipo B y 15 de tipo C, por un importe de 2200 euros. En un\n",
      "segundo pedido ha comprado 15 perfumes de tipo A, 10 de tipo B y 10 de tipo C, por un importe de 1250 euros.\n",
      "a)[1,25 puntos] ¿Cuánto tendremos que pagar por un pedido de 25 perfumes de tipo A, 10 perfumes de tipo B y\n",
      "16 de tipo C?\n",
      "b)[1,25 puntos] Si añadimos que el precio de un perfume de tipo C es2\n",
      "5del precio de una unidad de tipo A,\n",
      "¿cuál es el precio de cada tipo de perfume?\n",
      "BLOQUE D. Resuelve sólo uno de los siguientes ejercicios:\n",
      "EJERCICIO 7. (2,5 puntos)\n",
      "Considera el plano π≡x−2y+z−2 = 0 y la recta r≡\n",
      "\n",
      "x= 1 + 2 λ\n",
      "y=λ\n",
      "z= 1λ∈R.\n",
      "a)[1 punto] Estudia la posición relativa de πyr.\n",
      "b)[1,5 puntos] Calcula la ecuación de la recta contenida en πque pasa por el punto P(2,−1,−2)y es perpen-\n",
      "dicular a r.\n",
      "EJERCICIO 8. (2,5 puntos)\n",
      "Considera los puntos A(4,0,0)yB(0,2,0). Calcula los puntos del plano OXZ que forman un triángulo equilátero\n",
      "conAyB.\n"
     ]
    }
   ],
   "source": [
    "import PyPDF2\n",
    "\n",
    "pdf_file = open('/workspaces/Examenes-PAU-Mates/src/Examen Matemáticas II de Andalucía (Extraordinaria de 2024).pdf', 'rb')\n",
    "pdf_reader = PyPDF2.PdfReader(pdf_file)\n",
    "text = ''\n",
    "for page_num in range(len(pdf_reader.pages)):\n",
    "    page = pdf_reader.pages[page_num]\n",
    "    text += page.extract_text() \n",
    "\n",
    "print(text)\n"
   ]
  },
  {
   "cell_type": "code",
   "execution_count": 10,
   "id": "45c12388",
   "metadata": {},
   "outputs": [
    {
     "ename": "AttributeError",
     "evalue": "'_io.BufferedReader' object has no attribute 'stem'",
     "output_type": "error",
     "traceback": [
      "\u001b[31m---------------------------------------------------------------------------\u001b[39m",
      "\u001b[31mAttributeError\u001b[39m                            Traceback (most recent call last)",
      "\u001b[36mCell\u001b[39m\u001b[36m \u001b[39m\u001b[32mIn[10]\u001b[39m\u001b[32m, line 5\u001b[39m\n\u001b[32m      2\u001b[39m \u001b[38;5;66;03m# Guardar el texto en un .txt\u001b[39;00m\n\u001b[32m      3\u001b[39m output_dir = Path(\u001b[33m\"\u001b[39m\u001b[33mtextos\u001b[39m\u001b[33m\"\u001b[39m)\n\u001b[32m----> \u001b[39m\u001b[32m5\u001b[39m output_file = output_dir / (\u001b[43mpdf_file\u001b[49m\u001b[43m.\u001b[49m\u001b[43mstem\u001b[49m + \u001b[33m\"\u001b[39m\u001b[33m.txt\u001b[39m\u001b[33m\"\u001b[39m)\n\u001b[32m      6\u001b[39m \u001b[38;5;28;01mwith\u001b[39;00m \u001b[38;5;28mopen\u001b[39m(output_file, \u001b[33m\"\u001b[39m\u001b[33mw\u001b[39m\u001b[33m\"\u001b[39m, encoding=\u001b[33m\"\u001b[39m\u001b[33mutf-8\u001b[39m\u001b[33m\"\u001b[39m) \u001b[38;5;28;01mas\u001b[39;00m f:\n\u001b[32m      7\u001b[39m     f.write(text)\n",
      "\u001b[31mAttributeError\u001b[39m: '_io.BufferedReader' object has no attribute 'stem'"
     ]
    }
   ],
   "source": [
    "  \n",
    "from pathlib import Path\n",
    "# Guardar el texto en un .txt\n",
    "output_dir = Path(\"textos\")\n",
    "\n",
    "output_file = output_dir / (pdf_file.stem + \".txt\")\n",
    "with open(output_file, \"w\", encoding=\"utf-8\") as f:\n",
    "    f.write(text)\n",
    "    \n",
    "print(f\"Texto extraído: {output_file.name}\")"
   ]
  }
 ],
 "metadata": {
  "kernelspec": {
   "display_name": "Python 3",
   "language": "python",
   "name": "python3"
  },
  "language_info": {
   "codemirror_mode": {
    "name": "ipython",
    "version": 3
   },
   "file_extension": ".py",
   "mimetype": "text/x-python",
   "name": "python",
   "nbconvert_exporter": "python",
   "pygments_lexer": "ipython3",
   "version": "3.12.1"
  }
 },
 "nbformat": 4,
 "nbformat_minor": 5
}
