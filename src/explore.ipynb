{
 "cells": [
  {
   "cell_type": "code",
   "execution_count": 1,
   "id": "9b0dc7b6",
   "metadata": {},
   "outputs": [],
   "source": [
    "import pandas as pd\n",
    "import numpy as np\n",
    "import requests\n",
    "from pathlib import Path\n"
   ]
  },
  {
   "cell_type": "code",
   "execution_count": 4,
   "id": "a0eebc8b",
   "metadata": {},
   "outputs": [
    {
     "name": "stdout",
     "output_type": "stream",
     "text": [
      "Error al descargar: \n",
      "Error al descargar: \n"
     ]
    }
   ],
   "source": [
    "\n",
    "urls = [\n",
    "    \"https://www.examenesdepau.com/files/examen/MadDBI/\",\n",
    "    \"https://www.examenesdepau.com/files/examen/NGNCXH/\"\n",
    "]\n",
    "\n",
    "output_dir = Path(\"pdfs\")\n",
    "output_dir.mkdir(exist_ok=True)\n",
    "\n",
    "for url in urls:\n",
    "    filename = url.split(\"/\")[-1]\n",
    "    filepath = output_dir / filename\n",
    "    response = requests.get(url)\n",
    "    \n",
    "    if response.status_code == 200:\n",
    "        with open(filepath, \"wb\") as f:\n",
    "            f.write(response.content)\n",
    "        print(f\"Descargado: {filename}\")\n",
    "    else:\n",
    "        print(f\"Error al descargar: {filename}\")"
   ]
  },
  {
   "cell_type": "code",
   "execution_count": 6,
   "id": "d6e9dfb8",
   "metadata": {},
   "outputs": [],
   "source": [
    "import fitz  # PyMuPDF\n",
    "from pathlib import Path\n",
    "\n",
    "pdf_dir = Path(\"pdfs\")\n",
    "output_dir = Path(\"textos\")\n",
    "output_dir.mkdir(exist_ok=True)\n",
    "\n",
    "for pdf_file in pdf_dir.glob(\"*.pdf\"):\n",
    "    texto = \"\"\n",
    "    doc = fitz.open(pdf_file)\n",
    "    for page in doc:\n",
    "        texto += page.get_text()\n",
    "    \n",
    "    # Guardar el texto en un .txt\n",
    "    output_file = output_dir / (pdf_file.stem + \".txt\")\n",
    "    with open(output_file, \"w\", encoding=\"utf-8\") as f:\n",
    "        f.write(texto)\n",
    "    \n",
    "    print(f\"Texto extraído: {output_file.name}\")"
   ]
  }
 ],
 "metadata": {
  "kernelspec": {
   "display_name": "Python 3",
   "language": "python",
   "name": "python3"
  },
  "language_info": {
   "codemirror_mode": {
    "name": "ipython",
    "version": 3
   },
   "file_extension": ".py",
   "mimetype": "text/x-python",
   "name": "python",
   "nbconvert_exporter": "python",
   "pygments_lexer": "ipython3",
   "version": "3.12.1"
  }
 },
 "nbformat": 4,
 "nbformat_minor": 5
}
